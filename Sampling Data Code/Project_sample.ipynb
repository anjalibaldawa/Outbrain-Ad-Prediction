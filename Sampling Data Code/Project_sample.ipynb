{
 "cells": [
  {
   "cell_type": "code",
   "execution_count": 5,
   "metadata": {},
   "outputs": [],
   "source": [
    "#using this Project_sample file Sample data in smaller size which used in Azure and Databricks Prediction\n",
    "# We have to sample train and event data."
   ]
  },
  {
   "cell_type": "code",
   "execution_count": 6,
   "metadata": {},
   "outputs": [],
   "source": [
    "#Importing important libraries. To run cell just select Run button on top.\n",
    "import pandas as pd\n",
    "import numpy as np"
   ]
  },
  {
   "cell_type": "code",
   "execution_count": 7,
   "metadata": {},
   "outputs": [],
   "source": [
    "# following code will read event file from where you store on local system and assign it to dataframe df.\n",
    "# Note: Change path according to your system and file name."
   ]
  },
  {
   "cell_type": "code",
   "execution_count": 8,
   "metadata": {},
   "outputs": [
    {
     "name": "stderr",
     "output_type": "stream",
     "text": [
      "C:\\ProgramData\\Anaconda3\\lib\\site-packages\\IPython\\core\\interactiveshell.py:3063: DtypeWarning: Columns (5) have mixed types.Specify dtype option on import or set low_memory=False.\n",
      "  interactivity=interactivity, compiler=compiler, result=result)\n"
     ]
    }
   ],
   "source": [
    "df=pd.read_csv(r\"C:/Users/pdmuser/Desktop/outbrain/event.csv\")"
   ]
  },
  {
   "cell_type": "code",
   "execution_count": 9,
   "metadata": {},
   "outputs": [],
   "source": [
    "# head used to see first five data from your datafarme. dataFrame.head()\n",
    "# Note: If you want to see more data put number in bracket. Example:df.head(10)"
   ]
  },
  {
   "cell_type": "code",
   "execution_count": 10,
   "metadata": {},
   "outputs": [
    {
     "data": {
      "text/html": [
       "<div>\n",
       "<style scoped>\n",
       "    .dataframe tbody tr th:only-of-type {\n",
       "        vertical-align: middle;\n",
       "    }\n",
       "\n",
       "    .dataframe tbody tr th {\n",
       "        vertical-align: top;\n",
       "    }\n",
       "\n",
       "    .dataframe thead th {\n",
       "        text-align: right;\n",
       "    }\n",
       "</style>\n",
       "<table border=\"1\" class=\"dataframe\">\n",
       "  <thead>\n",
       "    <tr style=\"text-align: right;\">\n",
       "      <th></th>\n",
       "      <th>Unnamed: 0</th>\n",
       "      <th>display_id</th>\n",
       "      <th>uuid</th>\n",
       "      <th>document_id</th>\n",
       "      <th>timestamp</th>\n",
       "      <th>platform</th>\n",
       "      <th>geo_location</th>\n",
       "    </tr>\n",
       "  </thead>\n",
       "  <tbody>\n",
       "    <tr>\n",
       "      <th>0</th>\n",
       "      <td>3651690</td>\n",
       "      <td>3651691</td>\n",
       "      <td>1139d80d07dc62</td>\n",
       "      <td>1288128</td>\n",
       "      <td>234238227</td>\n",
       "      <td>2</td>\n",
       "      <td>US&gt;MO</td>\n",
       "    </tr>\n",
       "    <tr>\n",
       "      <th>1</th>\n",
       "      <td>22249599</td>\n",
       "      <td>22249600</td>\n",
       "      <td>316b4bebdb4051</td>\n",
       "      <td>2923252</td>\n",
       "      <td>1254261019</td>\n",
       "      <td>3</td>\n",
       "      <td>US&gt;NY&gt;501</td>\n",
       "    </tr>\n",
       "    <tr>\n",
       "      <th>2</th>\n",
       "      <td>10383064</td>\n",
       "      <td>10383065</td>\n",
       "      <td>9fa1f7010f0066</td>\n",
       "      <td>2209879</td>\n",
       "      <td>692013157</td>\n",
       "      <td>2</td>\n",
       "      <td>US&gt;CA&gt;807</td>\n",
       "    </tr>\n",
       "    <tr>\n",
       "      <th>3</th>\n",
       "      <td>383803</td>\n",
       "      <td>383804</td>\n",
       "      <td>f9ec1c49ab15d6</td>\n",
       "      <td>1764847</td>\n",
       "      <td>33060066</td>\n",
       "      <td>1</td>\n",
       "      <td>US&gt;TX&gt;635</td>\n",
       "    </tr>\n",
       "    <tr>\n",
       "      <th>4</th>\n",
       "      <td>16931697</td>\n",
       "      <td>16931698</td>\n",
       "      <td>5d9a86c821578e</td>\n",
       "      <td>1776943</td>\n",
       "      <td>29816341</td>\n",
       "      <td>2</td>\n",
       "      <td>US&gt;PA&gt;504</td>\n",
       "    </tr>\n",
       "  </tbody>\n",
       "</table>\n",
       "</div>"
      ],
      "text/plain": [
       "   Unnamed: 0  display_id            uuid  document_id   timestamp platform  \\\n",
       "0     3651690     3651691  1139d80d07dc62      1288128   234238227        2   \n",
       "1    22249599    22249600  316b4bebdb4051      2923252  1254261019        3   \n",
       "2    10383064    10383065  9fa1f7010f0066      2209879   692013157        2   \n",
       "3      383803      383804  f9ec1c49ab15d6      1764847    33060066        1   \n",
       "4    16931697    16931698  5d9a86c821578e      1776943    29816341        2   \n",
       "\n",
       "  geo_location  \n",
       "0        US>MO  \n",
       "1    US>NY>501  \n",
       "2    US>CA>807  \n",
       "3    US>TX>635  \n",
       "4    US>PA>504  "
      ]
     },
     "execution_count": 10,
     "metadata": {},
     "output_type": "execute_result"
    }
   ],
   "source": [
    "df.head()"
   ]
  },
  {
   "cell_type": "code",
   "execution_count": 11,
   "metadata": {},
   "outputs": [],
   "source": [
    "# In following code we need to sample different data for Azure ML studio , databricks and oracle. Chnage frac part according to requirement.\n",
    "# Azure ML studio: train file: 0.06  event file:0.04  Prmoted contet:0.2\n",
    "# DataBricks Oracle: train gile:0.12  event file:0.09  Promoted Content: Do not sample file upload its original size."
   ]
  },
  {
   "cell_type": "code",
   "execution_count": 12,
   "metadata": {},
   "outputs": [],
   "source": [
    "#Following code will sample data in small size and assign it to df1 dataframe."
   ]
  },
  {
   "cell_type": "code",
   "execution_count": 13,
   "metadata": {},
   "outputs": [],
   "source": [
    "df1=df.sample(frac=0.12,random_state=123)"
   ]
  },
  {
   "cell_type": "code",
   "execution_count": 14,
   "metadata": {},
   "outputs": [],
   "source": [
    "# following to_CSV function will convert df1 dataframe to csv file and download as file path given to you.\n",
    "#Note: Path will different accoring to your system."
   ]
  },
  {
   "cell_type": "code",
   "execution_count": 15,
   "metadata": {},
   "outputs": [],
   "source": [
    "df1.to_csv('C:/Users/pdmuser/Downloads/outbrain/small/trains.csv')"
   ]
  },
  {
   "cell_type": "code",
   "execution_count": null,
   "metadata": {},
   "outputs": [],
   "source": []
  }
 ],
 "metadata": {
  "kernelspec": {
   "display_name": "Python 3",
   "language": "python",
   "name": "python3"
  },
  "language_info": {
   "codemirror_mode": {
    "name": "ipython",
    "version": 3
   },
   "file_extension": ".py",
   "mimetype": "text/x-python",
   "name": "python",
   "nbconvert_exporter": "python",
   "pygments_lexer": "ipython3",
   "version": "3.7.6"
  }
 },
 "nbformat": 4,
 "nbformat_minor": 4
}
